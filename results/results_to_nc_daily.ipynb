{
 "cells": [
  {
   "cell_type": "markdown",
   "id": "2e4d304d-0577-40ed-bf92-92c325fc0cc4",
   "metadata": {},
   "source": [
    "# Read GNN outputs (graphs) into xarray\n",
    "* read all graphs predictions\n",
    "* Average the results for the overlapping results\n",
    "* Retrend and rescale the results\n",
    "* Concat in an xarray dataset"
   ]
  },
  {
   "cell_type": "code",
   "execution_count": null,
   "id": "54219141-c7aa-46c8-969f-aaf8b9563613",
   "metadata": {},
   "outputs": [],
   "source": [
    "import torch\n",
    "import xarray as xr\n",
    "import numpy as np\n",
    "import pandas as pd\n",
    "import joblib\n",
    "import matplotlib.pyplot as plt\n",
    "from scipy.special import softmax"
   ]
  },
  {
   "cell_type": "markdown",
   "id": "e5ce6c22-5813-4ce1-afe0-f62346e40382",
   "metadata": {},
   "source": [
    "## read result graphs"
   ]
  },
  {
   "cell_type": "code",
   "execution_count": null,
   "id": "4110f1a4-ec74-486d-b9d6-10b71a951f0c",
   "metadata": {},
   "outputs": [],
   "source": [
    "results = torch.load('../results_400km_k10.pt', map_location=torch.device('cpu'))\n",
    "results[0]"
   ]
  },
  {
   "cell_type": "code",
   "execution_count": null,
   "id": "2f90049e-118f-464f-8e32-c21542071fd7",
   "metadata": {},
   "outputs": [],
   "source": [
    "len(results)"
   ]
  },
  {
   "cell_type": "markdown",
   "id": "5d2c064e-6dcb-44dd-b2de-703227d7b473",
   "metadata": {
    "tags": []
   },
   "source": [
    "## creating netcdf"
   ]
  },
  {
   "cell_type": "code",
   "execution_count": null,
   "id": "161b8dfe-51f2-4766-b4cb-cf1c1f7ccd34",
   "metadata": {},
   "outputs": [],
   "source": [
    "dims = ['station', 'time', 'pred_id']"
   ]
  },
  {
   "cell_type": "code",
   "execution_count": null,
   "id": "2a0b046e-cdcb-4bfe-afe2-eff8639d6442",
   "metadata": {},
   "outputs": [],
   "source": [
    "for i, index in enumerate(indexes):\n",
    "    for pred_nb in range(10):\n",
    "        try:\n",
    "            data = results[index+pred_nb]\n",
    "            xr.Dataset(\n",
    "                        data_vars=dict(\n",
    "                            pred_n=(dims, np.array(data.n_out).astype(np.float32).reshape(-1, 30, 1),\n",
    "                               dict(description=\"scaled prediction\")),\n",
    "                            pred_e=(dims, np.array(data.e_out).astype(np.float32).reshape(-1, 30, 1),\n",
    "                               dict(description=\"scaled prediction\")),\n",
    "                            pred_z=(dims, np.array(data.z_out).astype(np.float32).reshape(-1, 30, 1),\n",
    "                               dict(description=\"scaled prediction\")),\n",
    "                            input_n=(dims, np.array(data.signal_n).astype(np.float32).reshape(-1, 30, 1),\n",
    "                               dict(description=\"scaled input\")),\n",
    "                            input_e=(dims, np.array(data.signal_e).astype(np.float32).reshape(-1, 30, 1),\n",
    "                               dict(description=\"scaled input\")),\n",
    "                            input_z=(dims, np.array(data.signal_z).astype(np.float32).reshape(-1, 30, 1),\n",
    "                               dict(description=\"scaled input\")),\n",
    "                        ),\n",
    "                        coords=dict(\n",
    "                            station=([\"station\"], data.id),\n",
    "                            time=(pd.date_range(start=data.date_start, periods=30, freq='1D')),\n",
    "                            pred_id=([pred_nb])\n",
    "                        ),\n",
    "                    ).to_netcdf(f\"./tmp/pred{pred_nb}_{str(data.date_start)[:10]}.nc\")\n",
    "        except IndexError:\n",
    "            break\n",
    "        \n",
    "    if i%100==0:\n",
    "        print(f\"{i+100} snapshots processed\")"
   ]
  },
  {
   "cell_type": "code",
   "execution_count": null,
   "id": "b86a1dc1-daa6-456b-8949-53c1e144cda7",
   "metadata": {},
   "outputs": [],
   "source": [
    "ds_pred = []\n",
    "for i in range(10):\n",
    "    ds_pred.append(xr.open_mfdataset(f\"./tmp/pred{i}*\"))\n",
    "    print(f\"read pred nb {i}\")"
   ]
  },
  {
   "cell_type": "code",
   "execution_count": null,
   "id": "e33d6ffb-0f13-4de0-82dc-e2722b7d5260",
   "metadata": {},
   "outputs": [],
   "source": [
    "ds_pred_merge = xr.merge(ds_pred)\n",
    "ds_pred_merge"
   ]
  },
  {
   "cell_type": "markdown",
   "id": "48a3f963-2921-4620-ab98-1e7f156a2569",
   "metadata": {},
   "source": [
    "## Calculate denoised signal"
   ]
  },
  {
   "cell_type": "code",
   "execution_count": null,
   "id": "e83a6e88-9fd3-49b0-95d2-a1582b6cad63",
   "metadata": {},
   "outputs": [],
   "source": [
    "ds_pred_merge['denoised_n'] = ds_pred_merge['input_n']-ds_pred_merge['pred_n']\n",
    "ds_pred_merge['denoised_e'] = ds_pred_merge['input_e']-ds_pred_merge['pred_e']\n",
    "ds_pred_merge['denoised_z'] = ds_pred_merge['input_z']-ds_pred_merge['pred_z']\n",
    "ds_pred_merge"
   ]
  },
  {
   "cell_type": "code",
   "execution_count": null,
   "id": "b0b52ce3-06f1-4e08-9e67-be165ef81076",
   "metadata": {},
   "outputs": [],
   "source": [
    "# calculate std\n",
    "ds_pred_merge['denoised_std_n'] = ds_pred_merge['denoised_n'].std(dim=\"pred_id\")\n",
    "ds_pred_merge['denoised_std_e'] = ds_pred_merge['denoised_e'].std(dim=\"pred_id\")\n",
    "ds_pred_merge['denoised_std_z'] = ds_pred_merge['denoised_z'].std(dim=\"pred_id\")\n",
    "ds_pred_merge"
   ]
  },
  {
   "cell_type": "code",
   "execution_count": null,
   "id": "e136da48-5e7b-4682-9257-fbe4bdd72af8",
   "metadata": {},
   "outputs": [],
   "source": [
    "# simple average for result\n",
    "ds_pred_merge = ds_pred_merge.mean(dim=\"pred_id\").compute()\n",
    "ds_pred_merge"
   ]
  },
  {
   "cell_type": "markdown",
   "id": "b6d01ebf-1406-41aa-a6a6-9d3e5f04c867",
   "metadata": {},
   "source": [
    "## combine with original ds"
   ]
  },
  {
   "cell_type": "code",
   "execution_count": null,
   "id": "5111b5cd-54f4-4441-8b0b-7d2f0d83b717",
   "metadata": {},
   "outputs": [],
   "source": [
    "ds = xr.open_dataset('../original_dataset.nc')\n",
    "ds = ds.drop_vars(['n_norm', 'e_norm', 'z_norm'])\n",
    "ds"
   ]
  },
  {
   "cell_type": "code",
   "execution_count": null,
   "id": "df77b746-892f-41cb-acdd-cf12fb420348",
   "metadata": {},
   "outputs": [],
   "source": [
    "ds_out = xr.merge([ds, ds_pred_merge]).sel(time=slice(\"2000-01-01\", \"2023-12-31\"))\n",
    "ds_out"
   ]
  },
  {
   "cell_type": "code",
   "execution_count": null,
   "id": "5dd08362-37fb-4414-ac7e-50c4295949ad",
   "metadata": {},
   "outputs": [],
   "source": [
    "for i in ['e', 'n', 'z']:\n",
    "    ds_out[i] = ds_out[i].astype(np.float32)\n",
    "ds_out"
   ]
  },
  {
   "cell_type": "markdown",
   "id": "c0303791-5455-4582-9968-f1c7037c861e",
   "metadata": {},
   "source": [
    "## retrend and unscale"
   ]
  },
  {
   "cell_type": "code",
   "execution_count": null,
   "id": "3205a9be-ef70-43b4-9a0f-6a42d57a443e",
   "metadata": {},
   "outputs": [],
   "source": [
    "scalers = joblib.load(\"../scalers_daily\")\n",
    "\n",
    "def inv_min_max(x_scaled, xmin, xmax):\n",
    "    return ((xmax - xmin) / 2) * (x_scaled + 1) + xmin\n",
    "scalers"
   ]
  },
  {
   "cell_type": "code",
   "execution_count": null,
   "id": "d55c2b92-e4f4-4071-be1d-c6af9bab0a8d",
   "metadata": {},
   "outputs": [],
   "source": [
    "ds_fit = xr.open_dataset(\"../fit_daily.nc\")\n",
    "ds_fit"
   ]
  },
  {
   "cell_type": "code",
   "execution_count": null,
   "id": "d3c85cae-fb8e-410d-b977-cff19cf8c5c6",
   "metadata": {},
   "outputs": [],
   "source": [
    "dims = ['station', 'time']"
   ]
  },
  {
   "cell_type": "code",
   "execution_count": null,
   "id": "591b7fb3-b7ae-4aa7-afd8-e05ec5602476",
   "metadata": {},
   "outputs": [],
   "source": [
    "var_to_modify = ['pred_n', 'pred_e', 'pred_z', 'input_n', 'input_e', 'input_z', 'denoised_n', 'denoised_e', 'denoised_z', 'denoised_std_n', 'denoised_std_e', 'denoised_std_z']\n",
    "#ds_fit = xr.open_dataset(\"./stations/fit_all.nc\")\n",
    "ds_out = ds_out.sel(time=slice('2010-01-01', '2023-12-31'))\n",
    "\n",
    "for var in var_to_modify:\n",
    "    tmp = inv_min_max(ds_out[var], scalers[var[-1]][0], scalers[var[-1]][1])\n",
    "    ds_out = ds_out.assign(variables={f\"detrend_{var}\": (dims, (tmp).data.astype(np.float32))})\n",
    "    ds_out = ds_out.assign(variables={f\"final_{var}\": (dims, (tmp+ds_fit[var[-1]]).data.astype(np.float32))})\n",
    "    \n",
    "ds_out = ds_out.drop_vars(['final_denoised_std_n', 'final_denoised_std_e', 'final_denoised_std_z'])\n",
    "ds_out"
   ]
  },
  {
   "cell_type": "code",
   "execution_count": null,
   "id": "517b1f1b-ab23-4700-b660-39ce5d4f681d",
   "metadata": {},
   "outputs": [],
   "source": [
    "for c in ['n', 'e', 'z']:\n",
    "    ds_out = ds_out.assign(variables={f\"final_error_{c}\": (dims, (abs(ds_out[f'final_pred_{c}']-ds_out[f'final_input_{c}'])).data.astype(np.float32))})\n",
    "ds_out"
   ]
  },
  {
   "cell_type": "markdown",
   "id": "89d032e0-dbf7-42d0-a510-5ea823dc4d80",
   "metadata": {},
   "source": [
    "# verrification"
   ]
  },
  {
   "cell_type": "code",
   "execution_count": null,
   "id": "c6ee12d7-d2c1-4dd4-a1c8-0a8fa156c401",
   "metadata": {},
   "outputs": [],
   "source": [
    "import matplotlib.pyplot as plt"
   ]
  },
  {
   "cell_type": "code",
   "execution_count": null,
   "id": "c315f060-938f-4e2d-9eeb-ac409aa20441",
   "metadata": {},
   "outputs": [],
   "source": [
    "ds_sel = ds_out.isel(time=slice(0,365*6))\n",
    "ds_sel = ds_sel.dropna(dim=\"station\", how=\"all\", subset=['pred_n', 'pred_e', 'pred_z'])\n",
    "ds_sel"
   ]
  },
  {
   "cell_type": "code",
   "execution_count": null,
   "id": "e585527b-9930-447e-a479-c07f75a73d24",
   "metadata": {},
   "outputs": [],
   "source": [
    "fig, ax = plt.subplots(figsize=(6,6))\n",
    "scatter = ax.scatter(x=ds.longitude, y=ds.latitude, alpha=1, s=15)\n",
    "plt.tight_layout()\n",
    "plt.show()"
   ]
  },
  {
   "cell_type": "code",
   "execution_count": null,
   "id": "171c01c5-de3d-49b0-a4e9-d2cf4f1805f7",
   "metadata": {},
   "outputs": [],
   "source": [
    "fig, ax1 = plt.subplots(figsize=(8, 8))\n",
    "ds_out.sel(station=\"ALBH\", time=slice(\"2017-03-01\", \"2017-04-15\")).detrend_input_e.plot(label=\"input\", ax=ax1)\n",
    "ds_out.sel(station=\"ALBH\", time=slice(\"2017-03-01\", \"2017-04-15\")).detrend_pred_e.plot(label=\"pred\", ax=ax1)\n",
    "ds_out.sel(station=\"ALBH\", time=slice(\"2017-03-01\", \"2017-04-15\")).detrend_denoised_e.plot(label=\"denoised\", ax=ax1)\n",
    "\n",
    "ax1.set_ylabel(\"E-ref(m)\")\n",
    "ax1.set_title(label=f\"E at station ALBH: 2017-03-01, 2017-04-15\")\n",
    "ax1.legend(loc='center left', bbox_to_anchor=(1, 0.8))"
   ]
  },
  {
   "cell_type": "code",
   "execution_count": null,
   "id": "cdb3257c-b799-4b70-b080-9db664a85205",
   "metadata": {},
   "outputs": [],
   "source": [
    "ds_mean = ds_out.mean(dim='station')\n",
    "ds_mean"
   ]
  },
  {
   "cell_type": "code",
   "execution_count": null,
   "id": "a4664e68-f2fa-4363-80fe-45f725650b54",
   "metadata": {},
   "outputs": [],
   "source": [
    "i = 2\n",
    "ds_mean_tmp = ds_mean.rolling(time=5, center=True, min_periods=1).mean().isel(time=slice((i-1)*1000, i*1000))\n",
    "fig, ax = plt.subplots(figsize=(8, 6))\n",
    "ds_mean_tmp.detrend_input_e.plot(ax=ax, label=\"input\")\n",
    "# ds_mean_tmp.detrend_pred_e.plot(ax=ax, label=\"pred\")\n",
    "ds_mean_tmp.detrend_denoised_e.plot(ax=ax, label=\"denoised\")\n",
    "\n",
    "ax.axhline(y = 0, color = 'r', linestyle = '-')\n",
    "\n",
    "ax.legend(loc='upper right')\n",
    "\n",
    "ax.set_ylabel(\"scaled detrend average position\")\n",
    "ax.set_title(label=f\"scaled detrend average position in e\")\n",
    "plt.tight_layout()"
   ]
  },
  {
   "cell_type": "code",
   "execution_count": null,
   "id": "c8d41dec-47a5-4987-832f-fdf3de997301",
   "metadata": {},
   "outputs": [],
   "source": [
    "fig, ax1 = plt.subplots(figsize=(8, 8))\n",
    "ax2 = ax1.twinx()\n",
    "ds_out.sel(station=\"ALBH\").e.plot(label=\"e\", ax=ax1)\n",
    "ds_out.sel(station=\"ALBH\").final_pred_e.plot(label=\"pred_e\", ax=ax1)\n",
    "ds_out.sel(station=\"ALBH\").final_denoised_e.plot(label=\"denoised_e\", ax=ax1)\n",
    "try:\n",
    "    ds_out.sel(station=\"ALBH\").tremor_count.plot(label=\"tremor\", ax=ax2)\n",
    "except:\n",
    "    print(\"tremor not in ds\")\n",
    "plt.legend(loc='center left', bbox_to_anchor=(1, 0.5))"
   ]
  },
  {
   "cell_type": "code",
   "execution_count": null,
   "id": "778a907e-09d6-4738-abf3-5f94eb8cb83c",
   "metadata": {},
   "outputs": [],
   "source": [
    "ds_out"
   ]
  },
  {
   "cell_type": "markdown",
   "id": "98c28643-c68c-426e-9329-f28aab2278d4",
   "metadata": {},
   "source": [
    "## final cleanup"
   ]
  },
  {
   "cell_type": "code",
   "execution_count": null,
   "id": "afb2be92-9e7b-4a3a-a967-107267e62fd8",
   "metadata": {},
   "outputs": [],
   "source": [
    "ds_out = ds_out.set_coords((\"latitude\", \"longitude\"))"
   ]
  },
  {
   "cell_type": "markdown",
   "id": "69e39f7f-3123-4c1c-a930-efaf6f483ce3",
   "metadata": {},
   "source": [
    "### Calculate daily \"noise\"\n",
    "\n",
    "Noise here is defined as the average position of the network compared to 0, assuming the network is supposed to be centered on average at any time, calculated on detrend data"
   ]
  },
  {
   "cell_type": "code",
   "execution_count": null,
   "id": "caf311ca-8b5e-4277-b2e2-4554d3b77fa8",
   "metadata": {},
   "outputs": [],
   "source": [
    "for c in ['e', 'n', 'z']:\n",
    "    ds_out[f'noise_input_{c}'] = abs(ds_out[f'detrend_input_{c}']).astype(np.float32)\n",
    "    ds_out[f'noise_denoised_{c}'] = abs(ds_out[f'detrend_denoised_{c}']).astype(np.float32)\n",
    "ds_out"
   ]
  },
  {
   "cell_type": "code",
   "execution_count": null,
   "id": "3ee35d8c-1797-4e14-86d4-a80ee414c7f5",
   "metadata": {},
   "outputs": [],
   "source": [
    "# adding attributes to the DS\n",
    "ds_out.attrs['dataset source'] = \"CWU daily solution from earthscope\"\n",
    "ds_out.attrs['data processing'] = \"raw data are detrended for each channel (detrend_input*). Denoising is done by a GNN with (GAT), encoding MLP and decoding MLP size 512. Graph is along edges > 400km The noise is the network abs position at all time steps. The trend added back, using the CWU trend\"\n",
    "ds_out"
   ]
  },
  {
   "cell_type": "markdown",
   "id": "8a07dd6d-bc93-4a4b-a7b3-2b08e1acf023",
   "metadata": {},
   "source": [
    "## Save DS"
   ]
  },
  {
   "cell_type": "code",
   "execution_count": null,
   "id": "5f7164df-cc9a-4e11-ba16-62adf3633d36",
   "metadata": {},
   "outputs": [],
   "source": [
    "# save 2010-2023\n",
    "ds_out.to_netcdf(\"../daily_results_2023_400km_k10.nc\")"
   ]
  },
  {
   "cell_type": "markdown",
   "id": "872e1e41-8cc6-498b-8d75-57aae7c91da8",
   "metadata": {},
   "source": [
    "## clean up the tmp folder"
   ]
  },
  {
   "cell_type": "code",
   "execution_count": null,
   "id": "8e362d40-ea7f-4bbe-8dde-464dd0a473a3",
   "metadata": {},
   "outputs": [],
   "source": [
    "%reset"
   ]
  },
  {
   "cell_type": "code",
   "execution_count": null,
   "id": "16adc19a-0670-4c34-859d-9e4a4c75bba9",
   "metadata": {},
   "outputs": [],
   "source": [
    "# delete tmp files\n",
    "import os, shutil\n",
    "folder = './tmp'\n",
    "for filename in os.listdir(folder):\n",
    "    file_path = os.path.join(folder, filename)\n",
    "    try:\n",
    "        if os.path.isfile(file_path) or os.path.islink(file_path):\n",
    "            os.unlink(file_path)\n",
    "        elif os.path.isdir(file_path):\n",
    "            shutil.rmtree(file_path)\n",
    "    except Exception as e:\n",
    "        print('Failed to delete %s. Reason: %s' % (file_path, e))"
   ]
  }
 ],
 "metadata": {
  "kernelspec": {
   "display_name": "Python 3 (ipykernel)",
   "language": "python",
   "name": "python3"
  },
  "language_info": {
   "codemirror_mode": {
    "name": "ipython",
    "version": 3
   },
   "file_extension": ".py",
   "mimetype": "text/x-python",
   "name": "python",
   "nbconvert_exporter": "python",
   "pygments_lexer": "ipython3",
   "version": "3.9.15"
  }
 },
 "nbformat": 4,
 "nbformat_minor": 5
}
