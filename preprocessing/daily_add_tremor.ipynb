{
 "cells": [
  {
   "cell_type": "markdown",
   "id": "0c53410c-a212-47cf-b24f-f849ef696ca7",
   "metadata": {},
   "source": [
    "# Notebook to add tremor count to the stations dataset\n",
    "Using the PNSN tremor catalog and the tremor prep notebook"
   ]
  },
  {
   "cell_type": "code",
   "execution_count": null,
   "id": "38b59d62-3c76-4a2f-8311-17adbd34a3a6",
   "metadata": {
    "pycharm": {
     "is_executing": true
    }
   },
   "outputs": [],
   "source": [
    "import xarray as xr\n",
    "import numpy as np\n",
    "import matplotlib.pyplot as plt\n",
    "import pandas as pd"
   ]
  },
  {
   "cell_type": "code",
   "execution_count": null,
   "id": "31c4d2e2-4b4a-4a98-99a6-91f670c4422c",
   "metadata": {},
   "outputs": [],
   "source": [
    "ds = xr.open_dataset(\"../data/clean_daily_CWU.nc\")\n",
    "ds"
   ]
  },
  {
   "cell_type": "markdown",
   "id": "0bc94fa2-007e-43d3-93e3-1d1976095027",
   "metadata": {},
   "source": [
    "# filter tremor days"
   ]
  },
  {
   "cell_type": "code",
   "execution_count": null,
   "id": "f965a67f-2cd4-490a-90f4-005a8332b9b0",
   "metadata": {},
   "outputs": [],
   "source": [
    "tremor = xr.open_dataset('../data/tremor/tremor_2010-2023.nc').sel(time=slice('2010-01-01', '2023-12-31'))\n",
    "tremor"
   ]
  },
  {
   "cell_type": "code",
   "execution_count": null,
   "id": "02415d96-518c-45cc-8fff-0fcd739b98c9",
   "metadata": {},
   "outputs": [],
   "source": [
    "ds = ds.sel(time=slice('2010-01-01', '2023-12-31'))\n",
    "ds"
   ]
  },
  {
   "cell_type": "code",
   "execution_count": null,
   "id": "3585bed1-be29-40e6-832d-269a119847fb",
   "metadata": {},
   "outputs": [],
   "source": [
    "def get_tremor_count(longitude, latitude):\n",
    "    delta_dist = 0.5\n",
    "    tremor_sel = tremor.sel(\n",
    "                lon=slice(longitude - delta_dist, longitude + delta_dist),\n",
    "                lat=slice(latitude - delta_dist, latitude + delta_dist)).sum(dim=['lon', 'lat'])[\n",
    "                'count']\n",
    "    return tremor_sel"
   ]
  },
  {
   "cell_type": "code",
   "execution_count": null,
   "id": "53271e41-8b61-4f68-bdca-0401128ab5d3",
   "metadata": {},
   "outputs": [],
   "source": [
    "tremor_dataarray = xr.apply_ufunc(get_tremor_count, ds.longitude, ds.latitude, dask=\"parallelized\", input_core_dims=[[], []], output_core_dims=[['time']], output_dtypes=['float64'], vectorize=True)\n",
    "tremor_dataarray.compute()"
   ]
  },
  {
   "cell_type": "code",
   "execution_count": null,
   "id": "1fa8a6db-cc83-4036-940a-114b33b6c636",
   "metadata": {},
   "outputs": [],
   "source": [
    "ds['tremor_count'] = tremor_dataarray\n",
    "ds"
   ]
  },
  {
   "cell_type": "markdown",
   "id": "eb1f6597-04a3-4ed6-8b3b-74c01845a0e4",
   "metadata": {},
   "source": [
    "# verrification plots"
   ]
  },
  {
   "cell_type": "code",
   "execution_count": null,
   "id": "73907ebd-b5a5-4632-89f5-684682c27e4f",
   "metadata": {},
   "outputs": [],
   "source": [
    "ds_notremor = ds.where(ds.tremor_count<2)\n",
    "ds_notremor['longitude'] = ds_notremor['longitude'].mean(dim='time')\n",
    "ds_notremor['latitude'] = ds_notremor['latitude'].mean(dim='time')\n",
    "ds_notremor['height'] = ds_notremor['height'].mean(dim='time')\n",
    "ds_notremor"
   ]
  },
  {
   "cell_type": "markdown",
   "id": "2de0157a-66f5-4721-a7e4-fc8718652e02",
   "metadata": {},
   "source": [
    "## Some verification plots"
   ]
  },
  {
   "cell_type": "code",
   "execution_count": null,
   "id": "6763cf88-fae5-4430-9dcf-a6027e3cc0b3",
   "metadata": {},
   "outputs": [],
   "source": [
    "fig, ax1 = plt.subplots(figsize=(8, 8))\n",
    "ax2 = ax1.twinx()\n",
    "\n",
    "ds.sel(station='ALBH').e[0:2500].plot(ax=ax1, color='red')\n",
    "ds.sel(station='ALBH').tremor_count[0:2500].plot(ax=ax2)\n",
    "\n",
    "ax1.set_xlabel('day index')\n",
    "ax1.set_ylabel('e-ref(m)')\n",
    "ax2.set_ylabel('tremor count')"
   ]
  },
  {
   "cell_type": "code",
   "execution_count": null,
   "id": "3ac328ab-dccc-421e-93ff-172fc2822388",
   "metadata": {},
   "outputs": [],
   "source": [
    "fig, ax1 = plt.subplots(figsize=(8, 8))\n",
    "ax2 = ax1.twinx()\n",
    "\n",
    "ds.sel(station='ALBH', time=slice(\"2017-03-01\", \"2017-05-01\")).e.plot(ax=ax1, color='red')\n",
    "ds.sel(station='ALBH', time=slice(\"2017-03-01\", \"2017-05-01\")).tremor_count.plot(ax=ax2)\n",
    "\n",
    "ax1.set_xlabel('day index')\n",
    "ax1.set_ylabel('e-ref(m)')\n",
    "ax2.set_ylabel('tremor count')"
   ]
  },
  {
   "cell_type": "code",
   "execution_count": null,
   "id": "f1c8e572-4a6f-4e6b-917b-97fe77153b2f",
   "metadata": {},
   "outputs": [],
   "source": [
    "import cartopy.crs as ccrs\n",
    "import cartopy.feature as cfeature\n",
    "\n",
    "\n",
    "\n",
    "def visualize_graph_torch(ds, tremor_ds):\n",
    "    fig = plt.figure(figsize=(6,12))\n",
    "    ax = fig.add_subplot(1, 1, 1, projection=ccrs.PlateCarree())\n",
    "    # ax.set_extent([80, 170, -45, 30], crs=ccrs.PlateCarree())\n",
    "\n",
    "    ax.add_feature(cfeature.LAND)\n",
    "    ax.add_feature(cfeature.COASTLINE)\n",
    "    ax.add_feature(cfeature.OCEAN)\n",
    "    \n",
    "    ax.gridlines(draw_labels=True, dms=True, x_inline=False, y_inline=False)\n",
    "        \n",
    "    plt.scatter(x=ds.longitude, y=ds.latitude, s=30, alpha=1, c='red', zorder=12)\n",
    "\n",
    "    delta = 0.5\n",
    "    # add perimeter\n",
    "    plt.plot([ds.longitude-delta, ds.longitude+delta], [ds.latitude+delta, ds.latitude+delta], c='Blue', linewidth=.5)\n",
    "    plt.plot([ds.longitude-delta, ds.longitude-delta], [ds.latitude-delta, ds.latitude+delta], c='Blue', linewidth=.5)\n",
    "    plt.plot([ds.longitude+delta, ds.longitude+delta], [ds.latitude+delta, ds.latitude-delta], c='Blue', linewidth=.5)\n",
    "    plt.plot([ds.longitude-delta, ds.longitude+delta], [ds.latitude-delta, ds.latitude-delta], c='Blue', linewidth=.5)\n",
    "\n",
    "        \n",
    "    plt.scatter(y=tremor_ds.lat.data, x=tremor_ds.lon.data, c=tremor_ds.data, s=2)\n",
    "\n",
    "    # plt.title(f\"{ds.date_start}\")\n",
    "    # plt.xlim((-130, -115))\n",
    "    # plt.ylim((39, 51))\n",
    "    plt.show()"
   ]
  },
  {
   "cell_type": "code",
   "execution_count": null,
   "id": "0ee905ab-0ce4-4769-b8b0-c3e91178e4bb",
   "metadata": {},
   "outputs": [],
   "source": [
    "tremor.sel(time=slice(\"2017-03-01\", \"2017-05-01\")).sum(dim='time').count"
   ]
  },
  {
   "cell_type": "code",
   "execution_count": null,
   "id": "41c6a213-d4f7-4e19-ba3c-cdcc4f728efc",
   "metadata": {},
   "outputs": [],
   "source": [
    "tre_plot = tremor.sel(time=slice(\"2017-03-01\", \"2017-05-01\")).stack(pos=(\"lon\", \"lat\")).sum(dim='time')['count']\n",
    "tre_plot = tre_plot.where(tre_plot>0, drop=True)\n",
    "visualize_graph_torch(ds.sel(station='ALBH'), tre_plot)"
   ]
  },
  {
   "cell_type": "markdown",
   "id": "cb071739-7247-4f57-8a33-547ae22a1149",
   "metadata": {},
   "source": [
    "# save dataset"
   ]
  },
  {
   "cell_type": "code",
   "execution_count": null,
   "id": "e5ee1f8f-b4e4-4906-ae38-27907d9e77a6",
   "metadata": {},
   "outputs": [],
   "source": [
    "ds.to_netcdf(\"../data/clean_daily_CWU.nc\")"
   ]
  }
 ],
 "metadata": {
  "kernelspec": {
   "display_name": "Python [conda env:GNSS_torch]",
   "language": "python",
   "name": "conda-env-GNSS_torch-py"
  },
  "language_info": {
   "codemirror_mode": {
    "name": "ipython",
    "version": 3
   },
   "file_extension": ".py",
   "mimetype": "text/x-python",
   "name": "python",
   "nbconvert_exporter": "python",
   "pygments_lexer": "ipython3",
   "version": "3.10.11"
  }
 },
 "nbformat": 4,
 "nbformat_minor": 5
}
